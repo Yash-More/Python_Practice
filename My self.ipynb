{
 "cells": [
  {
   "cell_type": "code",
   "execution_count": 6,
   "id": "d7f100fa",
   "metadata": {},
   "outputs": [
    {
     "name": "stdout",
     "output_type": "stream",
     "text": [
      "To print my self, need your details.\n",
      "Your Details\n",
      "1. Name ? = Yash More\n",
      "2. Age ? = 23\n",
      "3. Where do you stay 🏠 ? = Wadala\n",
      "4. Qualification 🎓 ? = Bachelor of Science in Information technology\n",
      "5. Recent work profile 🏢 ? = Not Working\n",
      "6. Company Name 🏢 ? =\n",
      "7. Hooby ? = Gaming,Video Editing\n",
      "8. interest in field ? = Data Science\n",
      "9. Your Passion ? =to be a Youtuber\n",
      "10.Your goal 🎯 ? = Get a Job in Google\n",
      "--MY SELF--\n",
      "🙏 Good Morning / Good Afternoon 🌅\n",
      "\tMy name is Yash More. I am 23 years old. I am staying 🏠 in Wadala. My highest qualification is Bachelor of Science in Information technology 🎓. \n",
      "\n",
      "\tRecently i am working as Not Working profile in . My hobby is Gaming,Video Editing. I am interested in work as a Data Science field. I am passionate about is to be a Youtuber 😎. My goal 🎯 is Get a Job in Google .\n",
      "\tThank You 🙏 .\n"
     ]
    }
   ],
   "source": [
    "print(\"To print my self, need your details.\")\n",
    "print(\"Your Details\")\n",
    "a = input(\"1. Name ? = \")                             # %S\n",
    "b = int(input(\"2. Age ? = \"))                         # %d\n",
    "c = input(\"3. Where do you stay \\U0001F3E0 ? = \")     # %s\n",
    "d = input(\"4. Qualification \\U0001F393 ? = \")         # %s\n",
    "e = input(\"5. Recent work profile \\U0001F3E2 ? = \")   # %s\n",
    "j = input(\"6. Company Name \\U0001F3E2 ? =\")\n",
    "f = input(\"7. Hooby ? = \")\n",
    "g = input(\"8. interest in field ? = \")\n",
    "h = input(\"9. Your Passion ? =\")\n",
    "i = input(\"10.Your goal \\U0001F3AF ? = \")\n",
    "\n",
    "print(\"--MY SELF--\")\n",
    "print(\"\\U0001F64F Good Morning / Good Afternoon \\U0001F305\")\n",
    "print(\"\\tMy name is %s.\" %(a) , end=\" \")\n",
    "print(\"I am %d years old.\" %(b) , end=\" \")\n",
    "print(\"I am staying \\U0001F3E0 in %s.\" %(c) , end=\" \")\n",
    "print(\"My highest qualification is %s \\U0001F393.\" %(d) , end=\" \")\n",
    "print(\"\\n\")\n",
    "print(\"\\tRecently i am working as %s profile in %s.\" %(e , j) , end=\" \")\n",
    "print(\"My hobby is %s.\" %(f) , end=\" \")\n",
    "print(\"I am interested in work as a %s field.\" %(g) , end=\" \")\n",
    "print(\"I am passionate about is %s \\U0001F60E.\" %(h)  , end=\" \" )\n",
    "print(\"My goal \\U0001F3AF is %s .\" %(i))\n",
    "print(\"\\tThank You \\U0001F64F .\")"
   ]
  },
  {
   "cell_type": "code",
   "execution_count": null,
   "id": "5f5d932d",
   "metadata": {},
   "outputs": [],
   "source": []
  }
 ],
 "metadata": {
  "kernelspec": {
   "display_name": "Python 3 (ipykernel)",
   "language": "python",
   "name": "python3"
  },
  "language_info": {
   "codemirror_mode": {
    "name": "ipython",
    "version": 3
   },
   "file_extension": ".py",
   "mimetype": "text/x-python",
   "name": "python",
   "nbconvert_exporter": "python",
   "pygments_lexer": "ipython3",
   "version": "3.9.13"
  }
 },
 "nbformat": 4,
 "nbformat_minor": 5
}
