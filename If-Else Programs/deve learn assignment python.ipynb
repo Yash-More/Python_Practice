{
 "cells": [
  {
   "cell_type": "code",
   "execution_count": 12,
   "id": "c18c1599",
   "metadata": {},
   "outputs": [
    {
     "name": "stdout",
     "output_type": "stream",
     "text": [
      "Computer\n",
      "Aptech\n"
     ]
    }
   ],
   "source": [
    "print(\"Computer\")\n",
    "print(\"Aptech\")"
   ]
  },
  {
   "cell_type": "code",
   "execution_count": 13,
   "id": "99a3b383",
   "metadata": {},
   "outputs": [
    {
     "name": "stdout",
     "output_type": "stream",
     "text": [
      "area of triangle 25.0\n"
     ]
    }
   ],
   "source": [
    "b = 5\n",
    "h = 10\n",
    "area = (b*h)/2\n",
    "print(\"area of triangle\",area)"
   ]
  },
  {
   "cell_type": "code",
   "execution_count": 15,
   "id": "485d6a9e",
   "metadata": {},
   "outputs": [
    {
     "name": "stdout",
     "output_type": "stream",
     "text": [
      "Enter the base value5\n",
      "Enter the height value10\n",
      "Area of triangle: 25.0\n"
     ]
    }
   ],
   "source": [
    "b = float(input(\"Enter the base value\"))\n",
    "h = float(input(\"Enter the height value\"))\n",
    "area = (b*h)/2\n",
    "print(\"Area of triangle:\",area)"
   ]
  },
  {
   "cell_type": "code",
   "execution_count": 28,
   "id": "3174f65e",
   "metadata": {},
   "outputs": [
    {
     "name": "stdout",
     "output_type": "stream",
     "text": [
      "Enter the First value5\n",
      "Enter the Second value5\n",
      "Enter the Third value5\n",
      "Area of triangle: 7.5 117.1875\n"
     ]
    }
   ],
   "source": [
    "a = float(input(\"Enter the First value\"))\n",
    "b = float(input(\"Enter the Second value\"))\n",
    "c = float(input(\"Enter the Third value\"))\n",
    "s = (a+b+c)/2\n",
    "Area = s*(s-a)*(s-b)*(s-c)\n",
    "print(\"Area of triangle:\",s,Area)"
   ]
  },
  {
   "cell_type": "code",
   "execution_count": 31,
   "id": "f037fe89",
   "metadata": {},
   "outputs": [
    {
     "name": "stdout",
     "output_type": "stream",
     "text": [
      "Enter the temperature in celcius: 23\n",
      "Temperature in fahrenheit: 73.4\n"
     ]
    }
   ],
   "source": [
    "celsius = float(input(\"Enter the temperature in celcius: \"))\n",
    "fahrenheit = (9/5 * celsius )+ 32\n",
    "print(\"Temperature in fahrenheit:\", fahrenheit)"
   ]
  },
  {
   "cell_type": "code",
   "execution_count": 33,
   "id": "0ecb0428",
   "metadata": {},
   "outputs": [
    {
     "name": "stdout",
     "output_type": "stream",
     "text": [
      "Enter the temperature in fahrenheit:73.4\n",
      "Temperature in centigrade: 8.777777777777786\n"
     ]
    }
   ],
   "source": [
    "fahrenheit = float(input(\"Enter the temperature in fahrenheit:\"))\n",
    "centigrade = (5/9 * fahrenheit)- 32\n",
    "print(\"Temperature in centigrade:\",centigrade)"
   ]
  },
  {
   "cell_type": "code",
   "execution_count": 35,
   "id": "28df235d",
   "metadata": {},
   "outputs": [
    {
     "name": "stdout",
     "output_type": "stream",
     "text": [
      "Enter seconds: 36000\n",
      "Hours: 10\n",
      "Minutes: 0\n",
      "Seconds: 0\n"
     ]
    }
   ],
   "source": [
    "seconds = int(input('Enter seconds: '))\n",
    "hours = seconds // 3600\n",
    "minutes = (seconds % 3600) // 60\n",
    "seconds = seconds % 60\n",
    "\n",
    "print('Hours:', hours)\n",
    "print('Minutes:', minutes)\n",
    "print('Seconds:', seconds)"
   ]
  },
  {
   "cell_type": "code",
   "execution_count": 39,
   "id": "0e37b18a",
   "metadata": {},
   "outputs": [
    {
     "name": "stdout",
     "output_type": "stream",
     "text": [
      "Enter the hours5\n",
      "Enter the minutes30\n",
      "Enter the seconds45\n",
      "Seconds: 19845\n"
     ]
    }
   ],
   "source": [
    "hours = int(input(\"Enter the hours\"))\n",
    "minutes = int(input(\"Enter the minutes\"))\n",
    "seconds = int(input(\"Enter the seconds\"))\n",
    "htos = hours * 3600\n",
    "mtos = minutes * 60\n",
    "time = (htos+mtos+seconds)\n",
    "print(\"Seconds:\",time)"
   ]
  },
  {
   "cell_type": "code",
   "execution_count": 41,
   "id": "8e4929f2",
   "metadata": {},
   "outputs": [
    {
     "name": "stdout",
     "output_type": "stream",
     "text": [
      "Enter the first number:5\n",
      "Enter the Seconds number:6\n",
      "After Interchange First number is: 6 Second number is 5\n"
     ]
    }
   ],
   "source": [
    "a = int(input(\"Enter the first number:\"))\n",
    "b = int(input(\"Enter the Seconds number:\"))\n",
    "temp = a\n",
    "a = b \n",
    "b = temp \n",
    "print(\"After Interchange First number is:\",a,\"Second number is\",b)"
   ]
  },
  {
   "cell_type": "code",
   "execution_count": 42,
   "id": "108f3c05",
   "metadata": {},
   "outputs": [
    {
     "name": "stdout",
     "output_type": "stream",
     "text": [
      "Enter the height in feet:55\n",
      "Enter the inches:2\n",
      "height 32.480000000000004\n"
     ]
    }
   ],
   "source": [
    "height = int(input(\"Enter the height in feet:\"))\n",
    "inches = int(input(\"Enter the inches:\"))\n",
    "foot = (2.54*12) + inches\n",
    "print(\"height\",foot)"
   ]
  },
  {
   "cell_type": "code",
   "execution_count": 49,
   "id": "2db52e7f",
   "metadata": {},
   "outputs": [
    {
     "name": "stdout",
     "output_type": "stream",
     "text": [
      "Enter the marks:90\n",
      "Enter the marks:90\n",
      "Enter the marks:90\n",
      "Enter the marks:90\n",
      "Gain_marks: 360\n",
      "90.0\n",
      "O\n"
     ]
    }
   ],
   "source": [
    "english = int(input(\"Enter the marks:\"))\n",
    "hindi = int(input(\"Enter the marks:\"))\n",
    "science = int(input(\"Enter the marks:\"))\n",
    "history = int(input(\"Enter the marks:\"))\n",
    "gain_marks = (english+hindi+science+history)\n",
    "print(\"Gain_marks:\",gain_marks)\n",
    "percentage = (gain_marks/400)*100\n",
    "print(percentage)\n",
    "if percentage<35:\n",
    "    print(\"Fail\")\n",
    "elif percentage < 50:\n",
    "    print(\"D\")\n",
    "elif percentage < 60:\n",
    "    print(\"C\")\n",
    "elif percentage < 70:\n",
    "    print(\"B\")\n",
    "elif percentage < 80:\n",
    "    print(\"A\")\n",
    "elif percentage < 90:\n",
    "    print(\"A++\")\n",
    "else :\n",
    "    print(\"O\")"
   ]
  },
  {
   "cell_type": "code",
   "execution_count": 51,
   "id": "31eb368d",
   "metadata": {},
   "outputs": [
    {
     "name": "stdout",
     "output_type": "stream",
     "text": [
      "Enter the number:225\n",
      "Enter the amount:5000\n",
      "225 5000 250.0 5250.0\n"
     ]
    }
   ],
   "source": [
    "bill_no = int(input(\"Enter the number:\"))\n",
    "sales_amount = int(input(\"Enter the amount:\"))\n",
    "if sales_amount <= 5000:\n",
    "    \n",
    "    sale_tax = sales_amount *0.05\n",
    "else: \n",
    "     sale_tax = sales_amount *0.10\n",
    "net_amount = sales_amount + sale_tax\n",
    "print(bill_no,sales_amount,sale_tax,net_amount)"
   ]
  },
  {
   "cell_type": "code",
   "execution_count": 53,
   "id": "bf179498",
   "metadata": {},
   "outputs": [
    {
     "name": "stdout",
     "output_type": "stream",
     "text": [
      "Enter the en number:225\n",
      "Enter the salary:3500\n",
      "225 3500 2205.0 1400.0 525.0 7630.0\n"
     ]
    }
   ],
   "source": [
    "employee = int(input(\"Enter the en number:\"))\n",
    "salary = int(input(\"Enter the salary:\"))\n",
    "da = 0.63 * salary \n",
    "hra = 0.40 * salary\n",
    "\n",
    "if salary >= 3500:\n",
    "    sa = 0.15 * salary\n",
    "else:\n",
    "    sa = 0\n",
    "gs = salary+da+hra+sa\n",
    "print(employee,salary,da,hra,sa,gs)\n",
    "    \n",
    "    \n"
   ]
  },
  {
   "cell_type": "code",
   "execution_count": 61,
   "id": "1cc340d7",
   "metadata": {},
   "outputs": [
    {
     "name": "stdout",
     "output_type": "stream",
     "text": [
      "Enter the number:58\n",
      "58 is not divide by 17\n"
     ]
    }
   ],
   "source": [
    "num = int(input(\"Enter the number:\"))\n",
    "if num%17==0:\n",
    "    print(num,\"is divide by 17:\")\n",
    "else :\n",
    "    print(num,\"is not divide by 17\")"
   ]
  },
  {
   "cell_type": "code",
   "execution_count": 59,
   "id": "0e47f638",
   "metadata": {},
   "outputs": [
    {
     "name": "stdout",
     "output_type": "stream",
     "text": [
      "Enter the number:33\n",
      "Odd\n"
     ]
    }
   ],
   "source": [
    "num = int(input(\"Enter the number:\"))\n",
    "if num%2==0:\n",
    "    print(\"Even\")\n",
    "else:\n",
    "    print(\"Odd\")"
   ]
  },
  {
   "cell_type": "code",
   "execution_count": 67,
   "id": "2ba9e1e2",
   "metadata": {},
   "outputs": [
    {
     "name": "stdout",
     "output_type": "stream",
     "text": [
      "Enter the marks:85\n",
      "Enter the marks:85\n",
      "Enter the marks:65\n",
      "Enter the marks:32\n",
      "Gain_marks: 267\n",
      "66.75\n",
      "1st class\n"
     ]
    }
   ],
   "source": [
    "english = int(input(\"Enter the marks:\"))\n",
    "hindi = int(input(\"Enter the marks:\"))\n",
    "science = int(input(\"Enter the marks:\"))\n",
    "history = int(input(\"Enter the marks:\"))\n",
    "gain_marks = (english+hindi+science+history)\n",
    "print(\"Gain_marks:\",gain_marks)\n",
    "percentage = (gain_marks/400)*100\n",
    "print(percentage)\n",
    "if percentage <= 35:\n",
    "    print(\"Fail\")\n",
    "elif percentage <=45 and percenatge > 35:\n",
    "    print(\"Pass class\")\n",
    "elif percentage <=60 and percentage >45:\n",
    "    print(\"2nd class\")\n",
    "elif percentage <=75 and percentage >60:\n",
    "    print(\"1st class\")\n",
    "elif percentage <=90 and percentage >75:\n",
    "    print(\"distinction\")\n",
    "elif percentage >= 90:\n",
    "    print(\"merit\")\n",
    "else :\n",
    "    print(\"invalid marks\")"
   ]
  },
  {
   "cell_type": "code",
   "execution_count": null,
   "id": "8aeca718",
   "metadata": {},
   "outputs": [],
   "source": []
  }
 ],
 "metadata": {
  "kernelspec": {
   "display_name": "Python 3 (ipykernel)",
   "language": "python",
   "name": "python3"
  },
  "language_info": {
   "codemirror_mode": {
    "name": "ipython",
    "version": 3
   },
   "file_extension": ".py",
   "mimetype": "text/x-python",
   "name": "python",
   "nbconvert_exporter": "python",
   "pygments_lexer": "ipython3",
   "version": "3.9.7"
  }
 },
 "nbformat": 4,
 "nbformat_minor": 5
}
