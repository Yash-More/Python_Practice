{
 "cells": [
  {
   "cell_type": "code",
   "execution_count": 2,
   "id": "ac027d1f",
   "metadata": {},
   "outputs": [
    {
     "name": "stdout",
     "output_type": "stream",
     "text": [
      "Enter the string:car\n",
      "Enter the string:bot\n",
      "Its not an anagram\n"
     ]
    }
   ],
   "source": [
    "string1 = input(\"Enter the string:\")\n",
    "string2 = input(\"Enter the string:\")\n",
    "if len(string1)==len(string2):\n",
    "    string1=string1.lower()\n",
    "    string2 = string2.lower()\n",
    "    s1 = sorted(string1)\n",
    "    s2 = sorted(string2)\n",
    "    if s1 == s2:\n",
    "        print(\"Its an anagram\")\n",
    "    else:\n",
    "        print(\"Its not an anagram\")\n",
    "else:\n",
    "    print(\"Its not an anagram\")\n",
    "    "
   ]
  },
  {
   "cell_type": "code",
   "execution_count": 8,
   "id": "36f60160",
   "metadata": {},
   "outputs": [
    {
     "name": "stdout",
     "output_type": "stream",
     "text": [
      "['a', 'c', 'r']\n"
     ]
    }
   ],
   "source": [
    "print(sorted(string1))"
   ]
  },
  {
   "cell_type": "code",
   "execution_count": 20,
   "id": "4b9c93af",
   "metadata": {},
   "outputs": [
    {
     "name": "stdout",
     "output_type": "stream",
     "text": [
      "Enter the number:25\n",
      "Enter the number:40\n",
      "Enter the number:25\n",
      "Its a isosceles\n"
     ]
    }
   ],
   "source": [
    "s1 = int(input(\"Enter the number:\"))\n",
    "s2 = int(input(\"Enter the number:\"))\n",
    "s3 = int(input(\"Enter the number:\"))\n",
    "if s1==s2==s3:\n",
    "    print(\"Its a equilateral\")\n",
    "elif s1!=s2 and s2!=s3 and s3!=s1:\n",
    "    print(\"Its a scalene\")\n",
    "else:\n",
    "    print(\"Its a isosceles\")"
   ]
  },
  {
   "cell_type": "code",
   "execution_count": 17,
   "id": "48fb7fe8",
   "metadata": {},
   "outputs": [
    {
     "name": "stdout",
     "output_type": "stream",
     "text": [
      "Enter the number:4\n",
      "Enter the number:4\n",
      "Enter the number:8\n",
      "triangle is possible\n"
     ]
    }
   ],
   "source": [
    "s1 = int(input(\"Enter the number:\"))\n",
    "s2 = int(input(\"Enter the number:\"))\n",
    "s3 = int(input(\"Enter the number:\"))\n",
    "if s1+s2>s3 or s1+s3>s2 or s2+s3>s1:\n",
    "    print(\"triangle is possible\")\n",
    "else:\n",
    "    print(\"triangle is not possible\")"
   ]
  }
 ],
 "metadata": {
  "kernelspec": {
   "display_name": "Python 3 (ipykernel)",
   "language": "python",
   "name": "python3"
  },
  "language_info": {
   "codemirror_mode": {
    "name": "ipython",
    "version": 3
   },
   "file_extension": ".py",
   "mimetype": "text/x-python",
   "name": "python",
   "nbconvert_exporter": "python",
   "pygments_lexer": "ipython3",
   "version": "3.9.7"
  }
 },
 "nbformat": 4,
 "nbformat_minor": 5
}
