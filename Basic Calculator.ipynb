{
 "cells": [
  {
   "cell_type": "code",
   "execution_count": 1,
   "id": "2bd676b1",
   "metadata": {},
   "outputs": [
    {
     "name": "stdout",
     "output_type": "stream",
     "text": [
      "Basic Calculator\n",
      "Enter the number:56\n",
      "Enter the number:32\n",
      "Which expression you want to perform:\n",
      "1. + (Addition)\n",
      "2. - (Subtraction)\n",
      "3. * (Multiplication)\n",
      "4. / (Division)\n",
      "Enter number for expression = 1\n",
      "Additon 88.0\n"
     ]
    }
   ],
   "source": [
    "print(\"Basic Calculator\")\n",
    "n1 = float(input(\"Enter the number:\"))\n",
    "n2 = float(input(\"Enter the number:\"))\n",
    "\n",
    "print(\"Which expression you want to perform:\")\n",
    "print(\"1. + (Addition)\")\n",
    "print(\"2. - (Subtraction)\")\n",
    "print(\"3. * (Multiplication)\")\n",
    "print(\"4. / (Division)\")\n",
    "\n",
    "num = int(input(\"Enter number for expression = \"))\n",
    "\n",
    "if num == 1:\n",
    "    print(\"Additon\",n1+n2)\n",
    "elif num == 2:\n",
    "    print(\"Substraction\",n1-n2)\n",
    "elif num == 3:\n",
    "    print(\"Multiplication\",n1*n2)\n",
    "elif num == 4:\n",
    "    print(\"Division\",n1/n2)\n",
    "else:\n",
    "    print(\"Wrong input\")"
   ]
  },
  {
   "cell_type": "code",
   "execution_count": null,
   "id": "e0a9fc67",
   "metadata": {},
   "outputs": [],
   "source": []
  }
 ],
 "metadata": {
  "kernelspec": {
   "display_name": "Python 3 (ipykernel)",
   "language": "python",
   "name": "python3"
  },
  "language_info": {
   "codemirror_mode": {
    "name": "ipython",
    "version": 3
   },
   "file_extension": ".py",
   "mimetype": "text/x-python",
   "name": "python",
   "nbconvert_exporter": "python",
   "pygments_lexer": "ipython3",
   "version": "3.9.7"
  }
 },
 "nbformat": 4,
 "nbformat_minor": 5
}
