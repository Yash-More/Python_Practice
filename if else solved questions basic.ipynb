{
 "cells": [
  {
   "cell_type": "code",
   "execution_count": 4,
   "id": "95b79f5c",
   "metadata": {},
   "outputs": [
    {
     "name": "stdout",
     "output_type": "stream",
     "text": [
      "Not\n"
     ]
    }
   ],
   "source": [
    "name = (\"Python\")\n",
    "if 'a' in name:\n",
    "    print(\"Yes\")\n",
    "else :\n",
    "    print(\"Not\")"
   ]
  },
  {
   "cell_type": "code",
   "execution_count": 9,
   "id": "2f6b8861",
   "metadata": {},
   "outputs": [
    {
     "name": "stdout",
     "output_type": "stream",
     "text": [
      "Enter the Number:8\n",
      "Enter the Number:6\n",
      "Enter the Number:4\n",
      "8  is greater\n"
     ]
    }
   ],
   "source": [
    "a = int(input(\"Enter the Number:\"))\n",
    "b = int(input(\"Enter the Number:\"))\n",
    "c = int(input(\"Enter the Number:\"))\n",
    "if a > b:\n",
    "    print(a,\" is greater\")\n",
    "elif b>c:\n",
    "    print(b,\" is greater\")\n",
    "else :\n",
    "    print(c,\" is greater\")"
   ]
  },
  {
   "cell_type": "code",
   "execution_count": 30,
   "id": "abfa2e7e",
   "metadata": {},
   "outputs": [
    {
     "name": "stdout",
     "output_type": "stream",
     "text": [
      "Enter the year1600\n",
      "Its Leap year:\n"
     ]
    }
   ],
   "source": [
    "a = int(input(\"Enter the year\"))\n",
    "if (a%4==0 and (a%400==0 or a%100!=0)):\n",
    "    print(\"Its Leap year:\")\n",
    "else:\n",
    "    print(\"Not leap year\")"
   ]
  },
  {
   "cell_type": "code",
   "execution_count": 34,
   "id": "d7ef1273",
   "metadata": {},
   "outputs": [
    {
     "name": "stdout",
     "output_type": "stream",
     "text": [
      "Enter the working days:250\n",
      "Enter the persent days:223\n",
      "89.2\n",
      "Student will able to sit in exam\n"
     ]
    }
   ],
   "source": [
    "wd = int(input(\"Enter the working days:\"))\n",
    "pd = int(input(\"Enter the persent days:\"))\n",
    "percentage =(pd/wd)*100\n",
    "print(percentage)\n",
    "if percentage > 75:\n",
    "    print(\"Student will able to sit in exam\")\n",
    "else :\n",
    "    print(\"Student will not able to sit in exam\")\n",
    "    "
   ]
  },
  {
   "cell_type": "code",
   "execution_count": 37,
   "id": "b6e46d17",
   "metadata": {},
   "outputs": [
    {
     "name": "stdout",
     "output_type": "stream",
     "text": [
      "Enter the vowel:E\n",
      "Vowel\n"
     ]
    }
   ],
   "source": [
    "a = input(\"Enter the vowel:\")\n",
    "if 'a' in 'aeiousAEIOUS':\n",
    "    print(\"Vowel\")\n",
    "else:\n",
    "    print(\"Not vowels\")"
   ]
  },
  {
   "cell_type": "code",
   "execution_count": 38,
   "id": "f602ddc7",
   "metadata": {},
   "outputs": [
    {
     "name": "stdout",
     "output_type": "stream",
     "text": [
      "Enter the Number:5\n",
      "Thursday\n"
     ]
    }
   ],
   "source": [
    "num = int(input(\"Enter the Number:\"))\n",
    "if num ==1:\n",
    "    print(\"Sunday\")\n",
    "elif num ==2:\n",
    "    print(\"Monday\")\n",
    "elif num ==3:\n",
    "    print(\"Tuesday\")\n",
    "elif num ==4:\n",
    "    print(\"Wednesday\")\n",
    "elif num ==5:\n",
    "    print(\"Thursday\")\n",
    "elif num ==6:\n",
    "    print(\"Friday\")\n",
    "elif num == 7:\n",
    "    print(\"Saturday\")    \n",
    "else:\n",
    "    print(\"Invaild input:\")"
   ]
  },
  {
   "cell_type": "code",
   "execution_count": 41,
   "id": "433a5617",
   "metadata": {},
   "outputs": [
    {
     "name": "stdout",
     "output_type": "stream",
     "text": [
      "Enter the City:delhi\n",
      "Redfort\n"
     ]
    }
   ],
   "source": [
    "city = input(\"Enter the City:\")\n",
    "if city == 'delhi':\n",
    "    print(\"Redfort\")\n",
    "elif city == 'Agra':\n",
    "    print(\"Taj Mahal\")\n",
    "elif city == 'jaipur':\n",
    "    print(\"Jal Mahal\")\n",
    "else :\n",
    "    print(\"Enter wrong city:\")"
   ]
  },
  {
   "cell_type": "code",
   "execution_count": 43,
   "id": "73a1f65e",
   "metadata": {},
   "outputs": [
    {
     "name": "stdout",
     "output_type": "stream",
     "text": [
      "Enter the age:18\n",
      "Eligible for voting\n"
     ]
    }
   ],
   "source": [
    "Age = int(input(\"Enter the age:\"))\n",
    "if Age >= 18:\n",
    "    print(\"Eligible for voting\")\n",
    "else :\n",
    "    print(\"not Eligible for voting\")"
   ]
  },
  {
   "cell_type": "code",
   "execution_count": 47,
   "id": "eaaaa8f2",
   "metadata": {},
   "outputs": [
    {
     "name": "stdout",
     "output_type": "stream",
     "text": [
      "basic Calculator\n",
      "Enter the number:5\n",
      "Enter the number:6\n",
      "Which expression you want to perform:\n",
      "1. + (Addition)\n",
      "2. - (Subtraction)\n",
      "3. * (Multiplication)\n",
      "4. / (Division)\n",
      "5. ** (Exponentiation)\n",
      "6. // (Floor division)\n",
      "7. % (Modulus)\n",
      "Enter the Experssion Number:1\n",
      "Additon 11\n"
     ]
    }
   ],
   "source": [
    "print(\"basic Calculator\")\n",
    "n1 = int(input(\"Enter the number:\"))\n",
    "n2 = int(input(\"Enter the number:\"))\n",
    "print(\"Which expression you want to perform:\")\n",
    "print(\"1. + (Addition)\")\n",
    "print(\"2. - (Subtraction)\")\n",
    "print(\"3. * (Multiplication)\")\n",
    "print(\"4. / (Division)\")\n",
    "print(\"5. ** (Exponentiation)\")\n",
    "print(\"6. // (Floor division)\")\n",
    "print(\"7. % (Modulus)\")\n",
    "num = int(input(\"Enter the Experssion Number:\"))\n",
    "if num == 1:\n",
    "    print(\"Additon\",n1+n2)\n",
    "elif num == 2:\n",
    "    print(\"Substraction\",n1-n2)\n",
    "elif num == 3:\n",
    "    print(\"Multiplication\",n1*n2)\n",
    "elif num == 4:\n",
    "    print(\"Division\",n1/n2)\n",
    "elif num == 5:\n",
    "    print(\"Exponentiation\",n1**n2)\n",
    "elif num == 6:\n",
    "    print(\"Floor Division\",n1//n2)\n",
    "elif num == 7:\n",
    "    print(\"Modules\",n1%n2)\n",
    "else:\n",
    "    print(\"Enter The Wrong Input:\")"
   ]
  },
  {
   "cell_type": "code",
   "execution_count": 50,
   "id": "900e7832",
   "metadata": {},
   "outputs": [
    {
     "name": "stdout",
     "output_type": "stream",
     "text": [
      "Enter the length:4\n",
      "Enter the breadth:4\n",
      "Its Square\n"
     ]
    }
   ],
   "source": [
    "a = int(input(\"Enter the length:\"))\n",
    "b = int(input(\"Enter the breadth:\"))\n",
    "if a == b :\n",
    "    print(\"Its Square\")\n",
    "else:\n",
    "    print(\"not Square\")"
   ]
  },
  {
   "cell_type": "code",
   "execution_count": null,
   "id": "b5fa03a0",
   "metadata": {},
   "outputs": [],
   "source": []
  }
 ],
 "metadata": {
  "kernelspec": {
   "display_name": "Python 3 (ipykernel)",
   "language": "python",
   "name": "python3"
  },
  "language_info": {
   "codemirror_mode": {
    "name": "ipython",
    "version": 3
   },
   "file_extension": ".py",
   "mimetype": "text/x-python",
   "name": "python",
   "nbconvert_exporter": "python",
   "pygments_lexer": "ipython3",
   "version": "3.9.7"
  }
 },
 "nbformat": 4,
 "nbformat_minor": 5
}
