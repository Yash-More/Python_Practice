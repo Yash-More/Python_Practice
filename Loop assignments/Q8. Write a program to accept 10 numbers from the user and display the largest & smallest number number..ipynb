{
 "cells": [
  {
   "cell_type": "code",
   "execution_count": 10,
   "id": "9fa98f7e",
   "metadata": {},
   "outputs": [
    {
     "name": "stdout",
     "output_type": "stream",
     "text": [
      "how many values u want to enter =6\n",
      "Enter the values 1=11\n",
      "Enter the values 2=22\n",
      "Enter the values 3=33\n",
      "Enter the values 4=44\n",
      "Enter the values 5=55\n",
      "Enter the values 6=88\n",
      "The Smallest value in this List is :  11\n",
      "The Largest value in this List is :  88\n"
     ]
    }
   ],
   "source": [
    "#Q8. Write a program to accept 10 numbers from the user and display the largest & smallest number number.\n",
    "\n",
    "mylist = []\n",
    "num = int(input(\"how many values u want to enter =\"))\n",
    "for i in range(1,num +1):\n",
    "    values = int(input(\"Enter the values %d=\"%i))\n",
    "    mylist.append(values)\n",
    "print(\"The Smallest value in this List is : \", min(mylist))\n",
    "print(\"The Largest value in this List is : \", max(mylist))"
   ]
  },
  {
   "cell_type": "code",
   "execution_count": null,
   "id": "395085ad",
   "metadata": {},
   "outputs": [],
   "source": []
  }
 ],
 "metadata": {
  "kernelspec": {
   "display_name": "Python 3 (ipykernel)",
   "language": "python",
   "name": "python3"
  },
  "language_info": {
   "codemirror_mode": {
    "name": "ipython",
    "version": 3
   },
   "file_extension": ".py",
   "mimetype": "text/x-python",
   "name": "python",
   "nbconvert_exporter": "python",
   "pygments_lexer": "ipython3",
   "version": "3.9.13"
  }
 },
 "nbformat": 4,
 "nbformat_minor": 5
}
