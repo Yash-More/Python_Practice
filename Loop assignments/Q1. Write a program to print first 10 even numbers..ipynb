{
 "cells": [
  {
   "cell_type": "code",
   "execution_count": null,
   "id": "d00acc65",
   "metadata": {},
   "outputs": [],
   "source": [
    "#Q1. Write a program to print first 10 even numbers.\n",
    "\n",
    "for i in range(2,22,2):\n",
    "    print(i,end=\" \")"
   ]
  }
 ],
 "metadata": {
  "kernelspec": {
   "display_name": "Python 3 (ipykernel)",
   "language": "python",
   "name": "python3"
  },
  "language_info": {
   "codemirror_mode": {
    "name": "ipython",
    "version": 3
   },
   "file_extension": ".py",
   "mimetype": "text/x-python",
   "name": "python",
   "nbconvert_exporter": "python",
   "pygments_lexer": "ipython3",
   "version": "3.9.13"
  }
 },
 "nbformat": 4,
 "nbformat_minor": 5
}
