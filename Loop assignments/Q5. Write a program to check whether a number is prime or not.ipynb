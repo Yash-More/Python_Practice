{
 "cells": [
  {
   "cell_type": "code",
   "execution_count": 5,
   "id": "8b3e5862",
   "metadata": {},
   "outputs": [
    {
     "name": "stdout",
     "output_type": "stream",
     "text": [
      "Enter the number:11\n",
      "11 is a prime number:\n"
     ]
    }
   ],
   "source": [
    "#Q5. Write a program to check whether a number is prime or not\n",
    "\n",
    "num = int(input(\"Enter the number:\"))\n",
    "if num > 1:\n",
    "    for i in range(2,int(num/2)+1):\n",
    "        if (num%i)==0:\n",
    "            print(num,\"is not a primr number:\")\n",
    "            break\n",
    "    else:\n",
    "        print(num,\"is a prime number:\")\n",
    "else:\n",
    "    print(num,\"is not a prime number:\")"
   ]
  },
  {
   "cell_type": "code",
   "execution_count": null,
   "id": "8fb27891",
   "metadata": {},
   "outputs": [],
   "source": []
  }
 ],
 "metadata": {
  "kernelspec": {
   "display_name": "Python 3 (ipykernel)",
   "language": "python",
   "name": "python3"
  },
  "language_info": {
   "codemirror_mode": {
    "name": "ipython",
    "version": 3
   },
   "file_extension": ".py",
   "mimetype": "text/x-python",
   "name": "python",
   "nbconvert_exporter": "python",
   "pygments_lexer": "ipython3",
   "version": "3.9.13"
  }
 },
 "nbformat": 4,
 "nbformat_minor": 5
}
