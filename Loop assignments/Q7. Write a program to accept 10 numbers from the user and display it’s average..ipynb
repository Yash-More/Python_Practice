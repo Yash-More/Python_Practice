{
 "cells": [
  {
   "cell_type": "code",
   "execution_count": 7,
   "id": "3ba25567",
   "metadata": {},
   "outputs": [
    {
     "name": "stdout",
     "output_type": "stream",
     "text": [
      "Enter 10 Numbers\n",
      "Number 1 = 4\n",
      "Number 2 = 6\n",
      "Number 3 = 9\n",
      "Number 4 = 8\n",
      "Number 5 = 7\n",
      "Number 6 = 3\n",
      "Number 7 = 1\n",
      "Number 8 = 2\n",
      "Number 9 = 6\n",
      "Number 10 = 5\n",
      "The Sum of 10 Numbers     =  51\n",
      "The Average of 10 Numbers =  5.1\n"
     ]
    }
   ],
   "source": [
    "#Q7. Write a program to accept 10 numbers from the user and display it’s average.\n",
    "Sum = 0 \n",
    "print(\"Enter 10 Numbers\")\n",
    "for i in range(1,11):\n",
    "    num = int(input(\"Number %d = \"%i))\n",
    "    Sum = Sum + num\n",
    "    avg = Sum/10\n",
    "print(\"The Sum of 10 Numbers     = \", Sum)\n",
    "print(\"The Average of 10 Numbers = \", avg)"
   ]
  },
  {
   "cell_type": "code",
   "execution_count": null,
   "id": "105018c7",
   "metadata": {},
   "outputs": [],
   "source": []
  }
 ],
 "metadata": {
  "kernelspec": {
   "display_name": "Python 3 (ipykernel)",
   "language": "python",
   "name": "python3"
  },
  "language_info": {
   "codemirror_mode": {
    "name": "ipython",
    "version": 3
   },
   "file_extension": ".py",
   "mimetype": "text/x-python",
   "name": "python",
   "nbconvert_exporter": "python",
   "pygments_lexer": "ipython3",
   "version": "3.9.13"
  }
 },
 "nbformat": 4,
 "nbformat_minor": 5
}
