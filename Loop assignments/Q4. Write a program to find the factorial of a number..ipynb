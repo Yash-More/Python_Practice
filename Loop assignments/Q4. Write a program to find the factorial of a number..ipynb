{
 "cells": [
  {
   "cell_type": "code",
   "execution_count": 4,
   "id": "939abf9c",
   "metadata": {},
   "outputs": [
    {
     "name": "stdout",
     "output_type": "stream",
     "text": [
      "Enter the number:6\n",
      "factorial of 6 is 720\n"
     ]
    }
   ],
   "source": [
    "#Q4. Write a program to find the factorial of a number.\n",
    "\n",
    "\n",
    "num = int(input(\"Enter the number:\"))\n",
    "fact = 1\n",
    "i = num\n",
    "while i>1:\n",
    "    fact = fact*i\n",
    "    i = i-1\n",
    "print(\"factorial of\",num,\"is\", fact)"
   ]
  },
  {
   "cell_type": "code",
   "execution_count": null,
   "id": "ae119045",
   "metadata": {},
   "outputs": [],
   "source": []
  }
 ],
 "metadata": {
  "kernelspec": {
   "display_name": "Python 3 (ipykernel)",
   "language": "python",
   "name": "python3"
  },
  "language_info": {
   "codemirror_mode": {
    "name": "ipython",
    "version": 3
   },
   "file_extension": ".py",
   "mimetype": "text/x-python",
   "name": "python",
   "nbconvert_exporter": "python",
   "pygments_lexer": "ipython3",
   "version": "3.9.13"
  }
 },
 "nbformat": 4,
 "nbformat_minor": 5
}
