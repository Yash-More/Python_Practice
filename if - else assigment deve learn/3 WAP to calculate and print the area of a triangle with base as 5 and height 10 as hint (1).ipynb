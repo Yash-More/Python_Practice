{
 "cells": [
  {
   "cell_type": "code",
   "execution_count": 2,
   "id": "4325e6fd",
   "metadata": {},
   "outputs": [
    {
     "name": "stdout",
     "output_type": "stream",
     "text": [
      "area of triangle 25.0\n"
     ]
    }
   ],
   "source": [
    "#3 WAP to calculate and print the area of a triangle with base as 5 and height\n",
    "10 as hint: area = 1/2 b h\n",
    "\n",
    "b = 5\n",
    "h = 10\n",
    "area = (b*h)/2\n",
    "print(\"area of triangle\",area)"
   ]
  },
  {
   "cell_type": "code",
   "execution_count": null,
   "id": "b5680088",
   "metadata": {},
   "outputs": [],
   "source": []
  }
 ],
 "metadata": {
  "kernelspec": {
   "display_name": "Python 3 (ipykernel)",
   "language": "python",
   "name": "python3"
  },
  "language_info": {
   "codemirror_mode": {
    "name": "ipython",
    "version": 3
   },
   "file_extension": ".py",
   "mimetype": "text/x-python",
   "name": "python",
   "nbconvert_exporter": "python",
   "pygments_lexer": "ipython3",
   "version": "3.9.13"
  }
 },
 "nbformat": 4,
 "nbformat_minor": 5
}
