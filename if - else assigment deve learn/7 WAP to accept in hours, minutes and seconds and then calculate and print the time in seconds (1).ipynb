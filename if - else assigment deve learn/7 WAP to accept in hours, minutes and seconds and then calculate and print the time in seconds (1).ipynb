{
 "cells": [
  {
   "cell_type": "code",
   "execution_count": 5,
   "id": "4325e6fd",
   "metadata": {},
   "outputs": [
    {
     "name": "stdout",
     "output_type": "stream",
     "text": [
      "Enter seconds: 36000\n",
      "Hours: 10\n",
      "Minutes: 0\n",
      "Seconds: 0\n"
     ]
    }
   ],
   "source": [
    "#7 WAP to accept in hours, minutes and seconds and then calculate and print\n",
    "#the time in seconds\n",
    "\n",
    "\n",
    "seconds = int(input('Enter seconds: '))\n",
    "hours = seconds // 3600\n",
    "minutes = (seconds % 3600) // 60\n",
    "seconds = seconds % 60\n",
    "\n",
    "print('Hours:', hours)\n",
    "print('Minutes:', minutes)\n",
    "print('Seconds:', seconds)"
   ]
  },
  {
   "cell_type": "code",
   "execution_count": 6,
   "id": "b5680088",
   "metadata": {},
   "outputs": [
    {
     "name": "stdout",
     "output_type": "stream",
     "text": [
      "Enter the hours5\n",
      "Enter the minutes45\n",
      "Enter the seconds31\n",
      "Seconds: 20731\n"
     ]
    }
   ],
   "source": [
    "hours = int(input(\"Enter the hours\"))\n",
    "minutes = int(input(\"Enter the minutes\"))\n",
    "seconds = int(input(\"Enter the seconds\"))\n",
    "htos = hours * 3600\n",
    "mtos = minutes * 60\n",
    "time = (htos+mtos+seconds)\n",
    "print(\"Seconds:\",time)"
   ]
  },
  {
   "cell_type": "code",
   "execution_count": null,
   "id": "ac28b010",
   "metadata": {},
   "outputs": [],
   "source": []
  }
 ],
 "metadata": {
  "kernelspec": {
   "display_name": "Python 3 (ipykernel)",
   "language": "python",
   "name": "python3"
  },
  "language_info": {
   "codemirror_mode": {
    "name": "ipython",
    "version": 3
   },
   "file_extension": ".py",
   "mimetype": "text/x-python",
   "name": "python",
   "nbconvert_exporter": "python",
   "pygments_lexer": "ipython3",
   "version": "3.9.13"
  }
 },
 "nbformat": 4,
 "nbformat_minor": 5
}
