{
 "cells": [
  {
   "cell_type": "code",
   "execution_count": 2,
   "id": "4325e6fd",
   "metadata": {},
   "outputs": [
    {
     "name": "stdout",
     "output_type": "stream",
     "text": [
      "Enter the First value5\n",
      "Enter the Second value5\n",
      "Enter the Third value5\n",
      "Area of triangle: 7.5 117.1875\n"
     ]
    }
   ],
   "source": [
    "#5 WAP a program to input lengths of 3 sides of a triangle and print the area\n",
    "#Area = s(s-a)(s-b)(s-c) and s = a+b+c/2\n",
    "\n",
    "a = float(input(\"Enter the First value\"))\n",
    "b = float(input(\"Enter the Second value\"))\n",
    "c = float(input(\"Enter the Third value\"))\n",
    "s = (a+b+c)/2\n",
    "Area = s*(s-a)*(s-b)*(s-c)\n",
    "print(\"Area of triangle:\",s,Area)"
   ]
  },
  {
   "cell_type": "code",
   "execution_count": null,
   "id": "b5680088",
   "metadata": {},
   "outputs": [],
   "source": []
  }
 ],
 "metadata": {
  "kernelspec": {
   "display_name": "Python 3 (ipykernel)",
   "language": "python",
   "name": "python3"
  },
  "language_info": {
   "codemirror_mode": {
    "name": "ipython",
    "version": 3
   },
   "file_extension": ".py",
   "mimetype": "text/x-python",
   "name": "python",
   "nbconvert_exporter": "python",
   "pygments_lexer": "ipython3",
   "version": "3.9.13"
  }
 },
 "nbformat": 4,
 "nbformat_minor": 5
}
