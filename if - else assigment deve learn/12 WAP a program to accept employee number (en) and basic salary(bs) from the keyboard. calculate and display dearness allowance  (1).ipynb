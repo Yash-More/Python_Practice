{
 "cells": [
  {
   "cell_type": "code",
   "execution_count": 11,
   "id": "4325e6fd",
   "metadata": {},
   "outputs": [
    {
     "name": "stdout",
     "output_type": "stream",
     "text": [
      "Enter the en number:255\n",
      "Enter the salary:5000\n",
      "255 5000 3150.0 2000.0 750.0 10900.0\n"
     ]
    }
   ],
   "source": [
    "#12 WAP a program to accept employee number (en) and basic salary(bs) from\n",
    "#the keyboard. calculate and display dearness allowance (da) as 63% of basic\n",
    "#salary, house rent allowance (hra) as 40% of basic salary, special allowance(sa)\n",
    "\n",
    "employee = int(input(\"Enter the en number:\"))\n",
    "salary = int(input(\"Enter the salary:\"))\n",
    "da = 0.63 * salary \n",
    "hra = 0.40 * salary\n",
    "\n",
    "if salary >= 3500:\n",
    "    sa = 0.15 * salary\n",
    "else:\n",
    "    sa = 0\n",
    "gs = salary+da+hra+sa\n",
    "print(employee,salary,da,hra,sa,gs)"
   ]
  },
  {
   "cell_type": "code",
   "execution_count": null,
   "id": "51ca3cc8",
   "metadata": {},
   "outputs": [],
   "source": []
  }
 ],
 "metadata": {
  "kernelspec": {
   "display_name": "Python 3 (ipykernel)",
   "language": "python",
   "name": "python3"
  },
  "language_info": {
   "codemirror_mode": {
    "name": "ipython",
    "version": 3
   },
   "file_extension": ".py",
   "mimetype": "text/x-python",
   "name": "python",
   "nbconvert_exporter": "python",
   "pygments_lexer": "ipython3",
   "version": "3.9.13"
  }
 },
 "nbformat": 4,
 "nbformat_minor": 5
}
