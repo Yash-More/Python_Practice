{
 "cells": [
  {
   "cell_type": "code",
   "execution_count": 3,
   "id": "4325e6fd",
   "metadata": {},
   "outputs": [
    {
     "name": "stdout",
     "output_type": "stream",
     "text": [
      "Enter the temperature in celcius: 22\n",
      "Temperature in fahrenheit: 71.6\n"
     ]
    }
   ],
   "source": [
    "#6 WAP to convert temperature in Fahrenheit into centigrade using the\n",
    "#formula c=5/9(f-32) and print the area\n",
    "\n",
    "\n",
    "celsius = float(input(\"Enter the temperature in celcius: \"))\n",
    "fahrenheit = (9/5 * celsius )+ 32\n",
    "print(\"Temperature in fahrenheit:\", fahrenheit)"
   ]
  },
  {
   "cell_type": "code",
   "execution_count": 4,
   "id": "b5680088",
   "metadata": {},
   "outputs": [
    {
     "name": "stdout",
     "output_type": "stream",
     "text": [
      "Enter the temperature in fahrenheit:71.6\n",
      "Temperature in centigrade: 7.777777777777779\n"
     ]
    }
   ],
   "source": [
    "fahrenheit = float(input(\"Enter the temperature in fahrenheit:\"))\n",
    "centigrade = (5/9 * fahrenheit)- 32\n",
    "print(\"Temperature in centigrade:\",centigrade)"
   ]
  },
  {
   "cell_type": "code",
   "execution_count": null,
   "id": "04d60fef",
   "metadata": {},
   "outputs": [],
   "source": []
  }
 ],
 "metadata": {
  "kernelspec": {
   "display_name": "Python 3 (ipykernel)",
   "language": "python",
   "name": "python3"
  },
  "language_info": {
   "codemirror_mode": {
    "name": "ipython",
    "version": 3
   },
   "file_extension": ".py",
   "mimetype": "text/x-python",
   "name": "python",
   "nbconvert_exporter": "python",
   "pygments_lexer": "ipython3",
   "version": "3.9.13"
  }
 },
 "nbformat": 4,
 "nbformat_minor": 5
}
