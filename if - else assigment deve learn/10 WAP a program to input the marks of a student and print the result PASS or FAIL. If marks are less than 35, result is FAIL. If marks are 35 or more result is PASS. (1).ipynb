{
 "cells": [
  {
   "cell_type": "code",
   "execution_count": 9,
   "id": "4325e6fd",
   "metadata": {},
   "outputs": [
    {
     "name": "stdout",
     "output_type": "stream",
     "text": [
      "Enter the marks:55\n",
      "Enter the marks:65\n",
      "Enter the marks:75\n",
      "Enter the marks:85\n",
      "Gain_marks: 280\n",
      "70.0\n",
      "A\n"
     ]
    }
   ],
   "source": [
    "#10 WAP a program to input the marks of a student and print the result PASS\n",
    "#or FAIL. If marks are less than 35, result is FAIL. If marks are 35 or more result is\n",
    "#PASS.\n",
    "\n",
    "english = int(input(\"Enter the marks:\"))\n",
    "hindi = int(input(\"Enter the marks:\"))\n",
    "science = int(input(\"Enter the marks:\"))\n",
    "history = int(input(\"Enter the marks:\"))\n",
    "gain_marks = (english+hindi+science+history)\n",
    "print(\"Gain_marks:\",gain_marks)\n",
    "percentage = (gain_marks/400)*100\n",
    "print(percentage)\n",
    "if percentage<35:\n",
    "    print(\"Fail\")\n",
    "elif percentage < 50:\n",
    "    print(\"D\")\n",
    "elif percentage < 60:\n",
    "    print(\"C\")\n",
    "elif percentage < 70:\n",
    "    print(\"B\")\n",
    "elif percentage < 80:\n",
    "    print(\"A\")\n",
    "elif percentage < 90:\n",
    "    print(\"A++\")\n",
    "else :\n",
    "    print(\"O\")"
   ]
  },
  {
   "cell_type": "code",
   "execution_count": null,
   "id": "6d527ed3",
   "metadata": {},
   "outputs": [],
   "source": []
  }
 ],
 "metadata": {
  "kernelspec": {
   "display_name": "Python 3 (ipykernel)",
   "language": "python",
   "name": "python3"
  },
  "language_info": {
   "codemirror_mode": {
    "name": "ipython",
    "version": 3
   },
   "file_extension": ".py",
   "mimetype": "text/x-python",
   "name": "python",
   "nbconvert_exporter": "python",
   "pygments_lexer": "ipython3",
   "version": "3.9.13"
  }
 },
 "nbformat": 4,
 "nbformat_minor": 5
}
