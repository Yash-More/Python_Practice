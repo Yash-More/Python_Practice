{
 "cells": [
  {
   "cell_type": "code",
   "execution_count": 1,
   "id": "4325e6fd",
   "metadata": {},
   "outputs": [
    {
     "name": "stdout",
     "output_type": "stream",
     "text": [
      "Enter the base value5\n",
      "Enter the height value5\n",
      "Area of triangle: 12.5\n"
     ]
    }
   ],
   "source": [
    "#4 WAP a program to input the base and height of triangle. Calculate and print\n",
    "#the area\n",
    "\n",
    "b = float(input(\"Enter the base value\"))\n",
    "h = float(input(\"Enter the height value\"))\n",
    "area = (b*h)/2\n",
    "print(\"Area of triangle:\",area)"
   ]
  },
  {
   "cell_type": "code",
   "execution_count": null,
   "id": "b5680088",
   "metadata": {},
   "outputs": [],
   "source": []
  }
 ],
 "metadata": {
  "kernelspec": {
   "display_name": "Python 3 (ipykernel)",
   "language": "python",
   "name": "python3"
  },
  "language_info": {
   "codemirror_mode": {
    "name": "ipython",
    "version": 3
   },
   "file_extension": ".py",
   "mimetype": "text/x-python",
   "name": "python",
   "nbconvert_exporter": "python",
   "pygments_lexer": "ipython3",
   "version": "3.9.13"
  }
 },
 "nbformat": 4,
 "nbformat_minor": 5
}
