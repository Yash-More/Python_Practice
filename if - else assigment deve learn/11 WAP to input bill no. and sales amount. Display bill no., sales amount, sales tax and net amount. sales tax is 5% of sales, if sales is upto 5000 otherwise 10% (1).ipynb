{
 "cells": [
  {
   "cell_type": "code",
   "execution_count": 10,
   "id": "4325e6fd",
   "metadata": {},
   "outputs": [
    {
     "name": "stdout",
     "output_type": "stream",
     "text": [
      "Enter the number:255\n",
      "Enter the amount:5000\n",
      "255 5000 250.0 5250.0\n"
     ]
    }
   ],
   "source": [
    "#11 WAP to input bill no. and sales amount. Display bill no., sales amount,\n",
    "#sales tax and net amount. sales tax is 5% of sales, if sales is upto 5000 otherwise\n",
    "#10%\n",
    "\n",
    "bill_no = int(input(\"Enter the number:\"))\n",
    "sales_amount = int(input(\"Enter the amount:\"))\n",
    "if sales_amount <= 5000:\n",
    "    \n",
    "    sale_tax = sales_amount *0.05\n",
    "else: \n",
    "     sale_tax = sales_amount *0.10\n",
    "net_amount = sales_amount + sale_tax\n",
    "print(bill_no,sales_amount,sale_tax,net_amount)"
   ]
  },
  {
   "cell_type": "code",
   "execution_count": null,
   "id": "4a99aa5b",
   "metadata": {},
   "outputs": [],
   "source": []
  }
 ],
 "metadata": {
  "kernelspec": {
   "display_name": "Python 3 (ipykernel)",
   "language": "python",
   "name": "python3"
  },
  "language_info": {
   "codemirror_mode": {
    "name": "ipython",
    "version": 3
   },
   "file_extension": ".py",
   "mimetype": "text/x-python",
   "name": "python",
   "nbconvert_exporter": "python",
   "pygments_lexer": "ipython3",
   "version": "3.9.13"
  }
 },
 "nbformat": 4,
 "nbformat_minor": 5
}
