{
 "cells": [
  {
   "cell_type": "code",
   "execution_count": 8,
   "id": "4325e6fd",
   "metadata": {},
   "outputs": [
    {
     "name": "stdout",
     "output_type": "stream",
     "text": [
      "Enter the height in feet:55\n",
      "Enter the inches:2\n",
      "height 32.480000000000004\n"
     ]
    }
   ],
   "source": [
    "#9 WAP to input height in feet and inches and then print the corresponding\n",
    "#height in centimetres\n",
    "#Hint: 1 foot = 12 inches, 1 inch = 2.54 cms.\n",
    "\n",
    "height = int(input(\"Enter the height in feet:\"))\n",
    "inches = int(input(\"Enter the inches:\"))\n",
    "foot = (2.54*12) + inches\n",
    "print(\"height\",foot)"
   ]
  },
  {
   "cell_type": "code",
   "execution_count": null,
   "id": "f07ac8cb",
   "metadata": {},
   "outputs": [],
   "source": []
  }
 ],
 "metadata": {
  "kernelspec": {
   "display_name": "Python 3 (ipykernel)",
   "language": "python",
   "name": "python3"
  },
  "language_info": {
   "codemirror_mode": {
    "name": "ipython",
    "version": 3
   },
   "file_extension": ".py",
   "mimetype": "text/x-python",
   "name": "python",
   "nbconvert_exporter": "python",
   "pygments_lexer": "ipython3",
   "version": "3.9.13"
  }
 },
 "nbformat": 4,
 "nbformat_minor": 5
}
