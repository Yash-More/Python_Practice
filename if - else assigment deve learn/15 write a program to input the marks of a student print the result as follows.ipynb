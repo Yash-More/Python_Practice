{
 "cells": [
  {
   "cell_type": "code",
   "execution_count": 15,
   "id": "4325e6fd",
   "metadata": {},
   "outputs": [
    {
     "name": "stdout",
     "output_type": "stream",
     "text": [
      "Enter the marks:65\n",
      "Enter the marks:75\n",
      "Enter the marks:85\n",
      "Enter the marks:95\n",
      "Gain_marks: 320\n",
      "80.0\n",
      "distinction\n"
     ]
    }
   ],
   "source": [
    "#15 write a program to input the marks of a student print the result as follows\n",
    "\n",
    "english = int(input(\"Enter the marks:\"))\n",
    "hindi = int(input(\"Enter the marks:\"))\n",
    "science = int(input(\"Enter the marks:\"))\n",
    "history = int(input(\"Enter the marks:\"))\n",
    "gain_marks = (english+hindi+science+history)\n",
    "print(\"Gain_marks:\",gain_marks)\n",
    "percentage = (gain_marks/400)*100\n",
    "print(percentage)\n",
    "if percentage <= 35:\n",
    "    print(\"Fail\")\n",
    "elif percentage <=45 and percenatge > 35:\n",
    "    print(\"Pass class\")\n",
    "elif percentage <=60 and percentage >45:\n",
    "    print(\"2nd class\")\n",
    "elif percentage <=75 and percentage >60:\n",
    "    print(\"1st class\")\n",
    "elif percentage <=90 and percentage >75:\n",
    "    print(\"distinction\")\n",
    "elif percentage >= 90:\n",
    "    print(\"merit\")\n",
    "else :\n",
    "    print(\"invalid marks\")"
   ]
  },
  {
   "cell_type": "code",
   "execution_count": null,
   "id": "86d8d69e",
   "metadata": {},
   "outputs": [],
   "source": []
  }
 ],
 "metadata": {
  "kernelspec": {
   "display_name": "Python 3 (ipykernel)",
   "language": "python",
   "name": "python3"
  },
  "language_info": {
   "codemirror_mode": {
    "name": "ipython",
    "version": 3
   },
   "file_extension": ".py",
   "mimetype": "text/x-python",
   "name": "python",
   "nbconvert_exporter": "python",
   "pygments_lexer": "ipython3",
   "version": "3.9.13"
  }
 },
 "nbformat": 4,
 "nbformat_minor": 5
}
