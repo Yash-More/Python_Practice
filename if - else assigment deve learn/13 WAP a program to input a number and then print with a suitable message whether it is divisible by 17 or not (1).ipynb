{
 "cells": [
  {
   "cell_type": "code",
   "execution_count": 13,
   "id": "4325e6fd",
   "metadata": {},
   "outputs": [
    {
     "name": "stdout",
     "output_type": "stream",
     "text": [
      "Enter the number:45\n",
      "45 is not divide by 17\n"
     ]
    }
   ],
   "source": [
    "#13 WAP a program to input a number and then print with a suitable message\n",
    "#whether it is divisible by 17 or not\n",
    "\n",
    "num = int(input(\"Enter the number:\"))\n",
    "if num%17==0:\n",
    "    print(num,\"is divide by 17:\")\n",
    "else :\n",
    "    print(num,\"is not divide by 17\")"
   ]
  },
  {
   "cell_type": "code",
   "execution_count": null,
   "id": "93a42a85",
   "metadata": {},
   "outputs": [],
   "source": []
  }
 ],
 "metadata": {
  "kernelspec": {
   "display_name": "Python 3 (ipykernel)",
   "language": "python",
   "name": "python3"
  },
  "language_info": {
   "codemirror_mode": {
    "name": "ipython",
    "version": 3
   },
   "file_extension": ".py",
   "mimetype": "text/x-python",
   "name": "python",
   "nbconvert_exporter": "python",
   "pygments_lexer": "ipython3",
   "version": "3.9.13"
  }
 },
 "nbformat": 4,
 "nbformat_minor": 5
}
