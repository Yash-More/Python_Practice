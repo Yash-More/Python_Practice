{
 "cells": [
  {
   "cell_type": "code",
   "execution_count": 7,
   "id": "4325e6fd",
   "metadata": {},
   "outputs": [
    {
     "name": "stdout",
     "output_type": "stream",
     "text": [
      "Enter the first number:5\n",
      "Enter the Seconds number:6\n",
      "After Interchange First number is: 6 Second number is 5\n"
     ]
    }
   ],
   "source": [
    "#8 WAP to accept 2 numbers. Interchange the two numbers and then print\n",
    "a = int(input(\"Enter the first number:\"))\n",
    "b = int(input(\"Enter the Seconds number:\"))\n",
    "temp = a\n",
    "a = b \n",
    "b = temp \n",
    "print(\"After Interchange First number is:\",a,\"Second number is\",b)"
   ]
  },
  {
   "cell_type": "code",
   "execution_count": null,
   "id": "366d51f9",
   "metadata": {},
   "outputs": [],
   "source": []
  }
 ],
 "metadata": {
  "kernelspec": {
   "display_name": "Python 3 (ipykernel)",
   "language": "python",
   "name": "python3"
  },
  "language_info": {
   "codemirror_mode": {
    "name": "ipython",
    "version": 3
   },
   "file_extension": ".py",
   "mimetype": "text/x-python",
   "name": "python",
   "nbconvert_exporter": "python",
   "pygments_lexer": "ipython3",
   "version": "3.9.13"
  }
 },
 "nbformat": 4,
 "nbformat_minor": 5
}
