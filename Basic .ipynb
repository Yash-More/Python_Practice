{
 "cells": [
  {
   "cell_type": "code",
   "execution_count": 22,
   "id": "8b4b7280",
   "metadata": {},
   "outputs": [
    {
     "name": "stdout",
     "output_type": "stream",
     "text": [
      "Yash\n",
      "More\n"
     ]
    }
   ],
   "source": [
    "print(\"Yash\\nMore\")"
   ]
  },
  {
   "cell_type": "code",
   "execution_count": 6,
   "id": "5b91dff4",
   "metadata": {},
   "outputs": [
    {
     "name": "stdout",
     "output_type": "stream",
     "text": [
      "Yash\n",
      "More\n",
      "Yash More\n"
     ]
    }
   ],
   "source": [
    "print(\"Yash\")\n",
    "print(\"More\")\n",
    "print(\"Yash\",\"More\")"
   ]
  },
  {
   "cell_type": "code",
   "execution_count": 21,
   "id": "d511f496",
   "metadata": {},
   "outputs": [
    {
     "name": "stdout",
     "output_type": "stream",
     "text": [
      "Yash More\n",
      "Enter the marks:90\n",
      "Enter the marks:90\n",
      "Enter the marks:90\n",
      "Enter the marks:90\n",
      "Enter the marks:90\n",
      "450.0\n",
      "Enter the total marks:500\n",
      "90.0\n",
      "Grade A+\n"
     ]
    }
   ],
   "source": [
    "print(\"Yash More\")\n",
    "English = float(input(\"Enter the marks:\"))\n",
    "Maths = float(input(\"Enter the marks:\"))\n",
    "Chemistry = float(input(\"Enter the marks:\"))\n",
    "Physic = float(input(\"Enter the marks:\"))\n",
    "Bio = float(input(\"Enter the marks:\"))\n",
    "Gain_marks = (English+Maths+Chemistry+Physic+Bio)\n",
    "print(Gain_marks)\n",
    "Total_marks = float(input(\"Enter the total marks:\"))\n",
    "percentage = (Gain_marks/500)*100\n",
    "print(percentage)\n",
    "if percentage<35:\n",
    "    print(\"Fail\")\n",
    "elif percentage<=50:\n",
    "    print(\"Grade D\")\n",
    "elif percentage<=60:\n",
    "    print(\"Grade C\")\n",
    "elif percentage <=70:\n",
    "    print(\"Grade B\")\n",
    "elif percentage <= 80:\n",
    "    print(\"Grade A\")\n",
    "elif percentage <= 90:\n",
    "    print(\"Grade A+\")\n",
    "elif percentage <90:\n",
    "    print(\"Distinct\")\n",
    "    "
   ]
  },
  {
   "cell_type": "code",
   "execution_count": null,
   "id": "a1e57aba",
   "metadata": {},
   "outputs": [],
   "source": []
  }
 ],
 "metadata": {
  "kernelspec": {
   "display_name": "Python 3 (ipykernel)",
   "language": "python",
   "name": "python3"
  },
  "language_info": {
   "codemirror_mode": {
    "name": "ipython",
    "version": 3
   },
   "file_extension": ".py",
   "mimetype": "text/x-python",
   "name": "python",
   "nbconvert_exporter": "python",
   "pygments_lexer": "ipython3",
   "version": "3.9.7"
  }
 },
 "nbformat": 4,
 "nbformat_minor": 5
}
